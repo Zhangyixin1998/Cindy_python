{
 "cells": [
  {
   "cell_type": "code",
   "execution_count": 14,
   "metadata": {},
   "outputs": [
    {
     "data": {
      "text/plain": [
       "['这个', '东西', '真心', '很', '赞']"
      ]
     },
     "execution_count": 14,
     "metadata": {},
     "output_type": "execute_result"
    }
   ],
   "source": [
    "from snownlp import SnowNLP\n",
    "s=SnowNLP(u'这个东西真心很赞')   #u表示将后面跟的字符串以unicode格式存储\n",
    "s.words                         #分词"
   ]
  },
  {
   "cell_type": "code",
   "execution_count": 15,
   "metadata": {},
   "outputs": [
    {
     "data": {
      "text/plain": [
       "<zip at 0x1f372a749c8>"
      ]
     },
     "execution_count": 15,
     "metadata": {},
     "output_type": "execute_result"
    }
   ],
   "source": [
    "s.tags    #词性"
   ]
  },
  {
   "cell_type": "code",
   "execution_count": 16,
   "metadata": {},
   "outputs": [
    {
     "data": {
      "text/plain": [
       "['__class__',\n",
       " '__delattr__',\n",
       " '__dict__',\n",
       " '__dir__',\n",
       " '__doc__',\n",
       " '__eq__',\n",
       " '__format__',\n",
       " '__ge__',\n",
       " '__getattribute__',\n",
       " '__gt__',\n",
       " '__hash__',\n",
       " '__init__',\n",
       " '__init_subclass__',\n",
       " '__le__',\n",
       " '__lt__',\n",
       " '__module__',\n",
       " '__ne__',\n",
       " '__new__',\n",
       " '__reduce__',\n",
       " '__reduce_ex__',\n",
       " '__repr__',\n",
       " '__setattr__',\n",
       " '__sizeof__',\n",
       " '__str__',\n",
       " '__subclasshook__',\n",
       " '__weakref__',\n",
       " 'bm25',\n",
       " 'doc',\n",
       " 'han',\n",
       " 'idf',\n",
       " 'keywords',\n",
       " 'pinyin',\n",
       " 'sentences',\n",
       " 'sentiments',\n",
       " 'sim',\n",
       " 'summary',\n",
       " 'tags',\n",
       " 'tf',\n",
       " 'words']"
      ]
     },
     "execution_count": 16,
     "metadata": {},
     "output_type": "execute_result"
    }
   ],
   "source": [
    "dir(s)"
   ]
  },
  {
   "cell_type": "code",
   "execution_count": 17,
   "metadata": {},
   "outputs": [
    {
     "data": {
      "text/plain": [
       "[('这个', 'r'), ('东西', 'n'), ('真心', 'd'), ('很', 'd'), ('赞', 'Vg')]"
      ]
     },
     "execution_count": 17,
     "metadata": {},
     "output_type": "execute_result"
    }
   ],
   "source": [
    "list(s.tags)   #查看zip对象的方法"
   ]
  },
  {
   "cell_type": "code",
   "execution_count": 18,
   "metadata": {},
   "outputs": [
    {
     "data": {
      "text/plain": [
       "0.9769551298267365"
      ]
     },
     "execution_count": 18,
     "metadata": {},
     "output_type": "execute_result"
    }
   ],
   "source": [
    "s.sentiments      #情感：positive的概率"
   ]
  },
  {
   "cell_type": "code",
   "execution_count": 19,
   "metadata": {},
   "outputs": [
    {
     "data": {
      "text/plain": [
       "['zhe', 'ge', 'dong', 'xi', 'zhen', 'xin', 'hen', 'zan']"
      ]
     },
     "execution_count": 19,
     "metadata": {},
     "output_type": "execute_result"
    }
   ],
   "source": [
    "s.pinyin"
   ]
  },
  {
   "cell_type": "code",
   "execution_count": 20,
   "metadata": {},
   "outputs": [],
   "source": [
    "s = SnowNLP(u'「繁體字」「繁體中文」的叫法在臺灣亦很常見。')"
   ]
  },
  {
   "cell_type": "code",
   "execution_count": 21,
   "metadata": {},
   "outputs": [
    {
     "data": {
      "text/plain": [
       "<snownlp.SnowNLP at 0x1f372b1fb00>"
      ]
     },
     "execution_count": 21,
     "metadata": {},
     "output_type": "execute_result"
    }
   ],
   "source": [
    "s      #s是一个SnowNLP的对象"
   ]
  },
  {
   "cell_type": "code",
   "execution_count": 22,
   "metadata": {},
   "outputs": [
    {
     "data": {
      "text/plain": [
       "'「繁体字」「繁体中文」的叫法在台湾亦很常见。'"
      ]
     },
     "execution_count": 22,
     "metadata": {},
     "output_type": "execute_result"
    }
   ],
   "source": [
    "s.han    #繁体字转换为简体字"
   ]
  },
  {
   "cell_type": "code",
   "execution_count": 23,
   "metadata": {},
   "outputs": [],
   "source": [
    "text = u'''\n",
    "自然语言处理是计算机科学领域与人工智能领域中的一个重要方向。\n",
    "它研究能实现人与计算机之间用自然语言进行有效通信的各种理论和方法。\n",
    "自然语言处理是一门融语言学、计算机科学、数学于一体的科学。\n",
    "因此，这一领域的研究将涉及自然语言，即人们日常使用的语言，\n",
    "所以它与语言学的研究有着密切的联系，但又有重要的区别。\n",
    "自然语言处理并不是一般地研究自然语言，\n",
    "而在于研制能有效地实现自然语言通信的计算机系统，\n",
    "特别是其中的软件系统。因而它是计算机科学的一部分。\n",
    "'''"
   ]
  },
  {
   "cell_type": "code",
   "execution_count": 24,
   "metadata": {},
   "outputs": [],
   "source": [
    "s=SnowNLP(text)"
   ]
  },
  {
   "cell_type": "code",
   "execution_count": 25,
   "metadata": {},
   "outputs": [
    {
     "data": {
      "text/plain": [
       "['语言', '自然', '计算机']"
      ]
     },
     "execution_count": 25,
     "metadata": {},
     "output_type": "execute_result"
    }
   ],
   "source": [
    "s.keywords(3)    #选出主题词"
   ]
  },
  {
   "cell_type": "code",
   "execution_count": 26,
   "metadata": {},
   "outputs": [
    {
     "data": {
      "text/plain": [
       "['因而它是计算机科学的一部分',\n",
       " '自然语言处理是计算机科学领域与人工智能领域中的一个重要方向',\n",
       " '自然语言处理是一门融语言学、计算机科学、数学于一体的科学']"
      ]
     },
     "execution_count": 26,
     "metadata": {},
     "output_type": "execute_result"
    }
   ],
   "source": [
    "s.summary(3)    #摘要"
   ]
  },
  {
   "cell_type": "code",
   "execution_count": 27,
   "metadata": {},
   "outputs": [
    {
     "data": {
      "text/plain": [
       "['自然语言处理是计算机科学领域与人工智能领域中的一个重要方向',\n",
       " '它研究能实现人与计算机之间用自然语言进行有效通信的各种理论和方法',\n",
       " '自然语言处理是一门融语言学、计算机科学、数学于一体的科学',\n",
       " '因此',\n",
       " '这一领域的研究将涉及自然语言',\n",
       " '即人们日常使用的语言',\n",
       " '所以它与语言学的研究有着密切的联系',\n",
       " '但又有重要的区别',\n",
       " '自然语言处理并不是一般地研究自然语言',\n",
       " '而在于研制能有效地实现自然语言通信的计算机系统',\n",
       " '特别是其中的软件系统',\n",
       " '因而它是计算机科学的一部分']"
      ]
     },
     "execution_count": 27,
     "metadata": {},
     "output_type": "execute_result"
    }
   ],
   "source": [
    "s.sentences     #分句"
   ]
  },
  {
   "cell_type": "code",
   "execution_count": 28,
   "metadata": {},
   "outputs": [],
   "source": [
    "s=SnowNLP([[u'这篇',u'文章'],[u'那篇',u'论文'],[u'这个']])"
   ]
  },
  {
   "cell_type": "code",
   "execution_count": 29,
   "metadata": {},
   "outputs": [
    {
     "data": {
      "text/plain": [
       "[{'这篇': 1, '文章': 1}, {'那篇': 1, '论文': 1}, {'这个': 1}]"
      ]
     },
     "execution_count": 29,
     "metadata": {},
     "output_type": "execute_result"
    }
   ],
   "source": [
    "s.tf     #term frequency计算单个词词频"
   ]
  },
  {
   "cell_type": "code",
   "execution_count": 31,
   "metadata": {},
   "outputs": [
    {
     "data": {
      "text/plain": [
       "{'这篇': 0.5108256237659907,\n",
       " '文章': 0.5108256237659907,\n",
       " '那篇': 0.5108256237659907,\n",
       " '论文': 0.5108256237659907,\n",
       " '这个': 0.5108256237659907}"
      ]
     },
     "execution_count": 31,
     "metadata": {},
     "output_type": "execute_result"
    }
   ],
   "source": [
    "s.idf"
   ]
  },
  {
   "cell_type": "code",
   "execution_count": 32,
   "metadata": {},
   "outputs": [
    {
     "name": "stdout",
     "output_type": "stream",
     "text": [
      "Help on list object:\n",
      "\n",
      "class list(object)\n",
      " |  list() -> new empty list\n",
      " |  list(iterable) -> new list initialized from iterable's items\n",
      " |  \n",
      " |  Methods defined here:\n",
      " |  \n",
      " |  __add__(self, value, /)\n",
      " |      Return self+value.\n",
      " |  \n",
      " |  __contains__(self, key, /)\n",
      " |      Return key in self.\n",
      " |  \n",
      " |  __delitem__(self, key, /)\n",
      " |      Delete self[key].\n",
      " |  \n",
      " |  __eq__(self, value, /)\n",
      " |      Return self==value.\n",
      " |  \n",
      " |  __ge__(self, value, /)\n",
      " |      Return self>=value.\n",
      " |  \n",
      " |  __getattribute__(self, name, /)\n",
      " |      Return getattr(self, name).\n",
      " |  \n",
      " |  __getitem__(...)\n",
      " |      x.__getitem__(y) <==> x[y]\n",
      " |  \n",
      " |  __gt__(self, value, /)\n",
      " |      Return self>value.\n",
      " |  \n",
      " |  __iadd__(self, value, /)\n",
      " |      Implement self+=value.\n",
      " |  \n",
      " |  __imul__(self, value, /)\n",
      " |      Implement self*=value.\n",
      " |  \n",
      " |  __init__(self, /, *args, **kwargs)\n",
      " |      Initialize self.  See help(type(self)) for accurate signature.\n",
      " |  \n",
      " |  __iter__(self, /)\n",
      " |      Implement iter(self).\n",
      " |  \n",
      " |  __le__(self, value, /)\n",
      " |      Return self<=value.\n",
      " |  \n",
      " |  __len__(self, /)\n",
      " |      Return len(self).\n",
      " |  \n",
      " |  __lt__(self, value, /)\n",
      " |      Return self<value.\n",
      " |  \n",
      " |  __mul__(self, value, /)\n",
      " |      Return self*value.\n",
      " |  \n",
      " |  __ne__(self, value, /)\n",
      " |      Return self!=value.\n",
      " |  \n",
      " |  __new__(*args, **kwargs) from builtins.type\n",
      " |      Create and return a new object.  See help(type) for accurate signature.\n",
      " |  \n",
      " |  __repr__(self, /)\n",
      " |      Return repr(self).\n",
      " |  \n",
      " |  __reversed__(...)\n",
      " |      L.__reversed__() -- return a reverse iterator over the list\n",
      " |  \n",
      " |  __rmul__(self, value, /)\n",
      " |      Return value*self.\n",
      " |  \n",
      " |  __setitem__(self, key, value, /)\n",
      " |      Set self[key] to value.\n",
      " |  \n",
      " |  __sizeof__(...)\n",
      " |      L.__sizeof__() -- size of L in memory, in bytes\n",
      " |  \n",
      " |  append(...)\n",
      " |      L.append(object) -> None -- append object to end\n",
      " |  \n",
      " |  clear(...)\n",
      " |      L.clear() -> None -- remove all items from L\n",
      " |  \n",
      " |  copy(...)\n",
      " |      L.copy() -> list -- a shallow copy of L\n",
      " |  \n",
      " |  count(...)\n",
      " |      L.count(value) -> integer -- return number of occurrences of value\n",
      " |  \n",
      " |  extend(...)\n",
      " |      L.extend(iterable) -> None -- extend list by appending elements from the iterable\n",
      " |  \n",
      " |  index(...)\n",
      " |      L.index(value, [start, [stop]]) -> integer -- return first index of value.\n",
      " |      Raises ValueError if the value is not present.\n",
      " |  \n",
      " |  insert(...)\n",
      " |      L.insert(index, object) -- insert object before index\n",
      " |  \n",
      " |  pop(...)\n",
      " |      L.pop([index]) -> item -- remove and return item at index (default last).\n",
      " |      Raises IndexError if list is empty or index is out of range.\n",
      " |  \n",
      " |  remove(...)\n",
      " |      L.remove(value) -> None -- remove first occurrence of value.\n",
      " |      Raises ValueError if the value is not present.\n",
      " |  \n",
      " |  reverse(...)\n",
      " |      L.reverse() -- reverse *IN PLACE*\n",
      " |  \n",
      " |  sort(...)\n",
      " |      L.sort(key=None, reverse=False) -> None -- stable sort *IN PLACE*\n",
      " |  \n",
      " |  ----------------------------------------------------------------------\n",
      " |  Data and other attributes defined here:\n",
      " |  \n",
      " |  __hash__ = None\n",
      "\n"
     ]
    }
   ],
   "source": [
    "help(s.tf)"
   ]
  },
  {
   "cell_type": "code",
   "execution_count": 34,
   "metadata": {},
   "outputs": [
    {
     "data": {
      "text/plain": [
       "[0.4686473612532025, 0, 0]"
      ]
     },
     "execution_count": 34,
     "metadata": {},
     "output_type": "execute_result"
    }
   ],
   "source": [
    "s.sim([u'文章'])  #计算相似度"
   ]
  },
  {
   "cell_type": "code",
   "execution_count": 35,
   "metadata": {},
   "outputs": [],
   "source": [
    "#setup.py"
   ]
  },
  {
   "cell_type": "code",
   "execution_count": 37,
   "metadata": {},
   "outputs": [],
   "source": [
    "import os"
   ]
  },
  {
   "cell_type": "code",
   "execution_count": 38,
   "metadata": {},
   "outputs": [],
   "source": [
    "import sys"
   ]
  },
  {
   "cell_type": "code",
   "execution_count": 42,
   "metadata": {},
   "outputs": [],
   "source": [
    "import subprocess"
   ]
  },
  {
   "cell_type": "code",
   "execution_count": null,
   "metadata": {},
   "outputs": [],
   "source": [
    "#distutils 是 python 标准库的一部分，这个库的目的是为开发者提供一种方便的打包方式， 同时为使用者提供方便的安装方式。当我们开发了自己的模块之后，使用distutils的setup.py打包。"
   ]
  },
  {
   "cell_type": "code",
   "execution_count": 41,
   "metadata": {},
   "outputs": [],
   "source": [
    "try:\n",
    "    from setuptools import setup, find_packages\n",
    "except ImportError:\n",
    "    from distutils.core import setup\n",
    "    from distutils.util import convert_path\n",
    "    \n",
    "    def _find_packages(where='.',exclude=()):\n",
    "        \"\"\"Return a list all Python packages found within directory 'where'\n",
    "\n",
    "        'where' should be supplied as a \"cross-platform\" (i.e. URL-style)\n",
    "        path; it will be converted to the appropriate local path syntax.\n",
    "        'exclude' is a sequence of package names to exclude; '*' can be used\n",
    "        as a wildcard in the names, such that 'foo.*' will exclude all\n",
    "        subpackages of 'foo' (but not 'foo' itself).\n",
    "        \"\"\"\n",
    "        out=[]\n",
    "        stack=[(convert_path(where),'')]\n",
    "        while stack:\n",
    "            where, prefix=stack.pop(0)   #删除索引为0的元素,并返回删除的值\n",
    "            for name in os.listdir(where):        #os.listdir() 方法用于返回指定的文件夹包含的文件或文件夹的名字的列表。这个列表以字母顺序。 \n",
    "                fn=os.path.join(where,name)       #os.path.join()函数用于路径拼接文件路径。1. 会从第一个以”/”开头的参数开始拼接，之前的参数全部丢弃。2. 以上一种情况为先。在上一种情况确保情况下，若出现”./”开头的参数，会从”./”开头的参数的上一个参数开始拼接。\n",
    "\n",
    "                if('.'not in name and os.path.isdir(fn) and os.path.isfile(os.path.join(fn,'__init__.py'))): #os.path.isdir测试指定参数是否是目录名\n",
    "                    out.append(prefix+name)\n",
    "                    stack.append((fn,prefix+name+'.'))\n",
    "        for pat in list(exclude) +['ez_setup','distribute_setup']:\n",
    "            from fnmatch import fnmatchcase\n",
    "            out=[item for item in out if not fnmatchcase(item,pat)]\n",
    "PUBLISH_CMD='python setup.py register sdist upload'\n",
    "if 'publish' in sys.argv:\n",
    "    status=subprocess.call(PUBLISH_CMD,shell=True)\n",
    "    sys.exit(status)\n",
    "def read(fname):\n",
    "    with open(fname) as fp:\n",
    "        content=fp.read()\n",
    "    return content\n",
    "\n",
    "setup(                                                         #建立setup.py文件\n",
    "    name='snownlp',\n",
    "    version='0.12.3',\n",
    "    description='Python library for processing Chinese text',\n",
    "    author='isnowfy',\n",
    "    url='https://github.com/isnowfy/snownlp',\n",
    "    packages=find_packages(exclude=('test*', )),\n",
    "    classifiers=[\n",
    "        'Development Status :: 3 - Alpha',\n",
    "        'Intended Audience :: Developers',\n",
    "        'License :: OSI Approved :: MIT License',\n",
    "        'Programming Language :: Python',\n",
    "\n",
    "    ],\n",
    "    package_data={'': ['*.md', '*.txt', '*.marshal', '*.marshal.3']},\n",
    "    include_package_data=True,\n",
    ")"
   ]
  },
  {
   "cell_type": "code",
   "execution_count": 6,
   "metadata": {},
   "outputs": [
    {
     "name": "stdout",
     "output_type": "stream",
     "text": [
      ".anaconda\n",
      ".android\n",
      ".bash_history\n",
      ".conda\n",
      ".condarc\n",
      ".eclipse\n",
      ".gitconfig\n",
      ".idlerc\n",
      ".ipynb_checkpoints\n",
      ".ipython\n",
      ".jupyter\n",
      ".matplotlib\n",
      ".MindMaster\n",
      ".oracle_jre_usage\n",
      ".p2\n",
      ".pip\n",
      ".PyCharm2017.3\n",
      ".PyCharmEdu2018.1\n",
      ".QtWebEngineProcess\n",
      ".spyder-py3\n",
      ".tooling\n",
      ".VirtualBox\n",
      "01 入门演示.ipynb\n",
      "02-03 数据类型与数字.ipynb\n",
      "04 字符串.ipynb\n",
      "05 索引和分片.ipynb\n",
      "06 列表.ipynb\n",
      "07 可变和不可变类型.ipynb\n",
      "08 元组.ipynb\n",
      "09 列表与元组的速度比较.ipynb\n",
      "0918.ipynb\n",
      "0919 (class 01-03).ipynb\n",
      "0920（class4-5 advanced class1）.ipynb\n",
      "0921（advanced class 2）.ipynb\n",
      "0923（advanced class 3-4）.ipynb\n",
      "10 字典.ipynb\n",
      "1009课堂.ipynb\n",
      "1015(Advanced class 5-6).ipynb\n",
      "11 集合.ipynb\n",
      "12 不可变集合.ipynb\n",
      "13 Python赋值机制.ipynb\n",
      "14 判断语句.ipynb\n",
      "15 循环.ipynb\n",
      "16 列表推导式.ipynb\n",
      "20180911.ipynb\n",
      "3D Objects\n",
      "Anaconda\n",
      "AppData\n",
      "Application Data\n",
      "chinese_eg.txt\n",
      "Contacts\n",
      "Cookies\n",
      "Desktop\n",
      "doc2any.ini\n",
      "Documents\n",
      "Downloads\n",
      "dump_text.txt\n",
      "eclipse\n",
      "eclipse-workspace\n",
      "Favorites\n",
      "Foxit Reader SDK ActiveX.ini\n",
      "Heartsome Workspace\n",
      "hello.py\n",
      "IntelGraphicsProfiles\n",
      "learngit\n",
      "lines.html\n",
      "Links\n",
      "Local Settings\n",
      "MicrosoftEdgeBackups\n",
      "Music\n",
      "My Documents\n",
      "NetHood\n",
      "nltk初步使用.ipynb\n",
      "NTUSER.DAT\n",
      "ntuser.dat.LOG1\n",
      "ntuser.dat.LOG2\n",
      "NTUSER.DAT{0c2694f4-5f67-11e8-a322-ff20a78b5f59}.TxR.0.regtrans-ms\n",
      "NTUSER.DAT{0c2694f4-5f67-11e8-a322-ff20a78b5f59}.TxR.1.regtrans-ms\n",
      "NTUSER.DAT{0c2694f4-5f67-11e8-a322-ff20a78b5f59}.TxR.2.regtrans-ms\n",
      "NTUSER.DAT{0c2694f4-5f67-11e8-a322-ff20a78b5f59}.TxR.blf\n",
      "NTUSER.DAT{0c2694f5-5f67-11e8-a322-ff20a78b5f59}.TM.blf\n",
      "NTUSER.DAT{0c2694f5-5f67-11e8-a322-ff20a78b5f59}.TMContainer00000000000000000001.regtrans-ms\n",
      "NTUSER.DAT{0c2694f5-5f67-11e8-a322-ff20a78b5f59}.TMContainer00000000000000000002.regtrans-ms\n",
      "ntuser.ini\n",
      "OneDrive\n",
      "Pictures\n",
      "PrintHood\n",
      "PycharmProjects\n",
      "pycharm_professional\n",
      "Recent\n",
      "record .mp3\n",
      "Roaming\n",
      "Saved Games\n",
      "Searches\n",
      "SendTo\n",
      "setuptool\n",
      "SnowNLP.ipynb\n",
      "snownlp_master.ipynb\n",
      "source\n",
      "Templates\n",
      "TMX Editor Workspace\n",
      "Untitled.ipynb\n",
      "Untitled1.ipynb\n",
      "Untitled10.ipynb\n",
      "Untitled11.ipynb\n",
      "Untitled12.ipynb\n",
      "Untitled13.ipynb\n",
      "Untitled14.ipynb\n",
      "Untitled15.ipynb\n",
      "Untitled16.ipynb\n",
      "Untitled17.ipynb\n",
      "Untitled18.ipynb\n",
      "Untitled19.ipynb\n",
      "Untitled2.ipynb\n",
      "Untitled20.ipynb\n",
      "Untitled21.ipynb\n",
      "Untitled22.ipynb\n",
      "Untitled23.ipynb\n",
      "Untitled24.ipynb\n",
      "Untitled25.ipynb\n",
      "Untitled26.ipynb\n",
      "Untitled27.ipynb\n",
      "Untitled28.ipynb\n",
      "Untitled29.ipynb\n",
      "Untitled3.ipynb\n",
      "Untitled30.ipynb\n",
      "Untitled31.ipynb\n",
      "Untitled32.ipynb\n",
      "Untitled33.ipynb\n",
      "Untitled34.ipynb\n",
      "Untitled35.ipynb\n",
      "Untitled36.ipynb\n",
      "Untitled37.ipynb\n",
      "Untitled38.ipynb\n",
      "Untitled39.ipynb\n",
      "Untitled4.ipynb\n",
      "Untitled40.ipynb\n",
      "Untitled41.ipynb\n",
      "Untitled42.ipynb\n",
      "Untitled43.ipynb\n",
      "Untitled44.ipynb\n",
      "Untitled5.ipynb\n",
      "Untitled6.ipynb\n",
      "Untitled7.ipynb\n",
      "Untitled8.ipynb\n",
      "Untitled9.ipynb\n",
      "Videos\n",
      "VirtualBox VMs\n",
      "__pycache__\n",
      "「开始」菜单\n",
      "词频统计范例.ipynb\n"
     ]
    }
   ],
   "source": [
    "import os\n",
    "path=\"C:/Users/dell/\"\n",
    "for name in os.listdir(path):\n",
    "    print(name)"
   ]
  },
  {
   "cell_type": "code",
   "execution_count": 7,
   "metadata": {},
   "outputs": [],
   "source": [
    "from distutils.util import convert_path\n",
    "where='.'\n",
    "stack=[(convert_path(where),'')]"
   ]
  },
  {
   "cell_type": "code",
   "execution_count": 8,
   "metadata": {},
   "outputs": [
    {
     "data": {
      "text/plain": [
       "[('.', '')]"
      ]
     },
     "execution_count": 8,
     "metadata": {},
     "output_type": "execute_result"
    }
   ],
   "source": [
    "stack"
   ]
  },
  {
   "cell_type": "code",
   "execution_count": 15,
   "metadata": {},
   "outputs": [
    {
     "name": "stdout",
     "output_type": "stream",
     "text": [
      ".\\.anaconda\n",
      ".\\.android\n",
      ".\\.bash_history\n",
      ".\\.conda\n",
      ".\\.condarc\n",
      ".\\.eclipse\n",
      ".\\.gitconfig\n",
      ".\\.idlerc\n",
      ".\\.ipynb_checkpoints\n",
      ".\\.ipython\n",
      ".\\.jupyter\n",
      ".\\.matplotlib\n",
      ".\\.MindMaster\n",
      ".\\.oracle_jre_usage\n",
      ".\\.p2\n",
      ".\\.pip\n",
      ".\\.PyCharm2017.3\n",
      ".\\.PyCharmEdu2018.1\n",
      ".\\.QtWebEngineProcess\n",
      ".\\.spyder-py3\n",
      ".\\.tooling\n",
      ".\\.VirtualBox\n",
      ".\\01 入门演示.ipynb\n",
      ".\\02-03 数据类型与数字.ipynb\n",
      ".\\04 字符串.ipynb\n",
      ".\\05 索引和分片.ipynb\n",
      ".\\06 列表.ipynb\n",
      ".\\07 可变和不可变类型.ipynb\n",
      ".\\08 元组.ipynb\n",
      ".\\09 列表与元组的速度比较.ipynb\n",
      ".\\0918.ipynb\n",
      ".\\0919 (class 01-03).ipynb\n",
      ".\\0920（class4-5 advanced class1）.ipynb\n",
      ".\\0921（advanced class 2）.ipynb\n",
      ".\\0923（advanced class 3-4）.ipynb\n",
      ".\\10 字典.ipynb\n",
      ".\\1009课堂.ipynb\n",
      ".\\1015(Advanced class 5-6).ipynb\n",
      ".\\11 集合.ipynb\n",
      ".\\12 不可变集合.ipynb\n",
      ".\\13 Python赋值机制.ipynb\n",
      ".\\14 判断语句.ipynb\n",
      ".\\15 循环.ipynb\n",
      ".\\16 列表推导式.ipynb\n",
      ".\\20180911.ipynb\n",
      ".\\3D Objects\n",
      ".\\Anaconda\n",
      ".\\AppData\n",
      ".\\Application Data\n",
      ".\\chinese_eg.txt\n",
      ".\\Contacts\n",
      ".\\Cookies\n",
      ".\\Desktop\n",
      ".\\doc2any.ini\n",
      ".\\Documents\n",
      ".\\Downloads\n",
      ".\\dump_text.txt\n",
      ".\\eclipse\n",
      ".\\eclipse-workspace\n",
      ".\\Favorites\n",
      ".\\Foxit Reader SDK ActiveX.ini\n",
      ".\\Heartsome Workspace\n",
      ".\\hello.py\n",
      ".\\IntelGraphicsProfiles\n",
      ".\\learngit\n",
      ".\\lines.html\n",
      ".\\Links\n",
      ".\\Local Settings\n",
      ".\\MicrosoftEdgeBackups\n",
      ".\\Music\n",
      ".\\My Documents\n",
      ".\\NetHood\n",
      ".\\nltk初步使用.ipynb\n",
      ".\\NTUSER.DAT\n",
      ".\\ntuser.dat.LOG1\n",
      ".\\ntuser.dat.LOG2\n",
      ".\\NTUSER.DAT{0c2694f4-5f67-11e8-a322-ff20a78b5f59}.TxR.0.regtrans-ms\n",
      ".\\NTUSER.DAT{0c2694f4-5f67-11e8-a322-ff20a78b5f59}.TxR.1.regtrans-ms\n",
      ".\\NTUSER.DAT{0c2694f4-5f67-11e8-a322-ff20a78b5f59}.TxR.2.regtrans-ms\n",
      ".\\NTUSER.DAT{0c2694f4-5f67-11e8-a322-ff20a78b5f59}.TxR.blf\n",
      ".\\NTUSER.DAT{0c2694f5-5f67-11e8-a322-ff20a78b5f59}.TM.blf\n",
      ".\\NTUSER.DAT{0c2694f5-5f67-11e8-a322-ff20a78b5f59}.TMContainer00000000000000000001.regtrans-ms\n",
      ".\\NTUSER.DAT{0c2694f5-5f67-11e8-a322-ff20a78b5f59}.TMContainer00000000000000000002.regtrans-ms\n",
      ".\\ntuser.ini\n",
      ".\\OneDrive\n",
      ".\\Pictures\n",
      ".\\PrintHood\n",
      ".\\PycharmProjects\n",
      ".\\pycharm_professional\n",
      ".\\Recent\n",
      ".\\record .mp3\n",
      ".\\Roaming\n",
      ".\\Saved Games\n",
      ".\\Searches\n",
      ".\\SendTo\n",
      ".\\setuptool\n",
      ".\\SnowNLP.ipynb\n",
      ".\\snownlp_master.ipynb\n",
      ".\\source\n",
      ".\\Templates\n",
      ".\\TMX Editor Workspace\n",
      ".\\Untitled.ipynb\n",
      ".\\Untitled1.ipynb\n",
      ".\\Untitled10.ipynb\n",
      ".\\Untitled11.ipynb\n",
      ".\\Untitled12.ipynb\n",
      ".\\Untitled13.ipynb\n",
      ".\\Untitled14.ipynb\n",
      ".\\Untitled15.ipynb\n",
      ".\\Untitled16.ipynb\n",
      ".\\Untitled17.ipynb\n",
      ".\\Untitled18.ipynb\n",
      ".\\Untitled19.ipynb\n",
      ".\\Untitled2.ipynb\n",
      ".\\Untitled20.ipynb\n",
      ".\\Untitled21.ipynb\n",
      ".\\Untitled22.ipynb\n",
      ".\\Untitled23.ipynb\n",
      ".\\Untitled24.ipynb\n",
      ".\\Untitled25.ipynb\n",
      ".\\Untitled26.ipynb\n",
      ".\\Untitled27.ipynb\n",
      ".\\Untitled28.ipynb\n",
      ".\\Untitled29.ipynb\n",
      ".\\Untitled3.ipynb\n",
      ".\\Untitled30.ipynb\n",
      ".\\Untitled31.ipynb\n",
      ".\\Untitled32.ipynb\n",
      ".\\Untitled33.ipynb\n",
      ".\\Untitled34.ipynb\n",
      ".\\Untitled35.ipynb\n",
      ".\\Untitled36.ipynb\n",
      ".\\Untitled37.ipynb\n",
      ".\\Untitled38.ipynb\n",
      ".\\Untitled39.ipynb\n",
      ".\\Untitled4.ipynb\n",
      ".\\Untitled40.ipynb\n",
      ".\\Untitled41.ipynb\n",
      ".\\Untitled42.ipynb\n",
      ".\\Untitled43.ipynb\n",
      ".\\Untitled44.ipynb\n",
      ".\\Untitled5.ipynb\n",
      ".\\Untitled6.ipynb\n",
      ".\\Untitled7.ipynb\n",
      ".\\Untitled8.ipynb\n",
      ".\\Untitled9.ipynb\n",
      ".\\Videos\n",
      ".\\VirtualBox VMs\n",
      ".\\__pycache__\n",
      ".\\「开始」菜单\n",
      ".\\词频统计范例.ipynb\n"
     ]
    }
   ],
   "source": [
    "for name in os.listdir(where):\n",
    "    fn=os.path.join(where,name)\n",
    "    print(fn)"
   ]
  },
  {
   "cell_type": "code",
   "execution_count": 10,
   "metadata": {},
   "outputs": [
    {
     "name": "stdout",
     "output_type": "stream",
     "text": [
      ".\\词频统计范例.ipynb\\__init__.py\n"
     ]
    }
   ],
   "source": [
    "print(os.path.join(fn,'__init__.py'))"
   ]
  },
  {
   "cell_type": "code",
   "execution_count": 11,
   "metadata": {},
   "outputs": [],
   "source": [
    "out=[]\n",
    "if('.'not in name and os.path.isdir(fn) and os.path.isfile(os.path.join(fn,'__init__.py'))): \n",
    "    out.append(prefix+name)\n",
    "    stack.append((fn,prefix+name+'.'))"
   ]
  },
  {
   "cell_type": "code",
   "execution_count": 12,
   "metadata": {},
   "outputs": [
    {
     "data": {
      "text/plain": [
       "[]"
      ]
     },
     "execution_count": 12,
     "metadata": {},
     "output_type": "execute_result"
    }
   ],
   "source": [
    "out"
   ]
  },
  {
   "cell_type": "code",
   "execution_count": 13,
   "metadata": {},
   "outputs": [
    {
     "data": {
      "text/plain": [
       "[('.', '')]"
      ]
     },
     "execution_count": 13,
     "metadata": {},
     "output_type": "execute_result"
    }
   ],
   "source": [
    "stack"
   ]
  },
  {
   "cell_type": "markdown",
   "metadata": {},
   "source": [
    "# test.py"
   ]
  },
  {
   "cell_type": "code",
   "execution_count": 2,
   "metadata": {},
   "outputs": [],
   "source": [
    "# -*- coding: utf-8 -*-\n",
    "from __future__ import print_function\n",
    "from __future__ import unicode_literals\n",
    "\n",
    "text = '''\n",
    "如果你是一位教师，那么不管你的工作单位是高中、大学还是职业培训等教育机构，你都能在MOOC上找到对学生有用的内容。近期许多MOOC实验项目的目标都是建设一个课堂教学支持系统。我们根据研究结果、采访和我们参与的课程整理出以下建议，希望能够指导教师将MOOC的经验和资源运用到传统课堂教学中。\n",
    "\n",
    "\n",
    "1900年挪威特隆赫姆的科学课，图片来自WikiMedia。\n",
    "\n",
    "1．善用电子设备\n",
    "学生们都具备参与在线课堂的工具，而教师也可以利用自己的设备参与线上社交。如果你是一名学生，就把这篇文章转给你的老师吧。让老师看看怎样用智能手机和笔记本电脑记录你的活动，并迅速回复评论；看看你用哪些手机应用查看地图、搜索信息和购物；展示你的微博、人人和网盘，还有其他人留下的评论。最后，告诉老师，如果他们要开在线课程，并且需要学生助手，别忘了叫上你。\n",
    "\n",
    "2．让课堂更广阔\n",
    "MOOC的成功证明，相比课堂教学，许多学生更喜欢在线学习。随着智能手机、平板电脑和笔记本电脑在学生族中的流行，学生们有了与朋友、家人和老师交流的新方式。显然，在头脑清醒、精神集中的时候，看课程视频、做练习和参与课堂讨论的效率都更高。在MOOC，这意味着一个印度学生和一个新汉普郡的学生能够达到同一水平。因此在传统课堂中，我们也要让那些在足球训练场上、在滑雪度假村和在家养病的学生能够和坐在课时第一排的学生学到同样多的东西。在线工具能够让课堂不再受限于校园，学生们也能够获得更加美好而难忘的学习体验。\n",
    "\n",
    "3．参与是成功之母\n",
    "MOOC研究显示，成功的学生都会充分利用所有的在线资源，例如视频、测试、课堂讨论和由其他学生编写的课程维基百科。对于课堂教学，教师可以建立在线平台，让学生在课堂之外也能参与到学校中。这种交流可以只是发一条微博或者公告，邀请学生对备课提出建议。邀请学生把能够帮助他们复习所学知识的相关文章或图片发布到网上。只要利用这些小诀窍，大家就都能看到谁能跟上课程进度，进而鼓励他们或者提出建议。在课堂上可以表扬在网络上活跃的学生，或者解答学生在网上提出的问题。\n",
    "\n",
    "4．建立网络社区\n",
    "为了活跃课堂，你需要在网络上建一个“据点”，也就是说，需要建立一个网站，为学生提供课件，提醒任务完成时间，并且让学生之间建立联系。假设你是一位老师，并且已经有了自己的注册、评分和考勤系统，那就把这些运用到网络上吧。我们的目标是为学生建立一个平台，让他们能在现有的网络社交活动、与班上同学的交流和课堂作业之间自由转换。\n",
    "\n",
    "\n",
    "\n",
    "W·伊恩-欧伯恩(W. Ian O’Byrne)是纽黑文大学的教育技术助教，他建议利用谷歌协作平台实现这个目的。他指出，学生们都有自己的移动设备，并且希望有一个“够酷而且适合聚会”的地方学习。只把课程都放到网上是不够的，需要精心设计漂亮的页面，并且这个网页要方便学生进行互动。\n",
    "\n",
    "他说：“用好谷歌协作平台的关键仅仅是迈出第一步。把它当作一项工程，认真编辑，打造你自己的在线学习空间，就像每年组织一批学生一样。你可以在每个新学年调整课程内容，不断建设升级，把你的数字学习社区建设得越来越好。”\n",
    "\n",
    "MOOC是学校的一种新形式，欧伯恩建议在起步的时候，先为每门课程的课件加上指针，再利用软件工具，就可以轻松根据学生的学习进度添加课程。他希望，在学生使用在线社区的同时，教师也能发现参与在线社区的方式。\n",
    "\n",
    "5．从线上到线下\n",
    "MOOC的一个缺陷就是无法组建高效的学习小组，而教师在这方面可以大有作为。当学生们看到其他同学更新了课程内容，他们就知道谁掌握了所学的知识，从而邀请这些同学合作完成任务，或向他们请教。我经常向教师们介绍这个例子：我在Google+圈子里发了一条信息，例如“明天我们会讨论矛盾冲突在吸引读者注意力方面的作用。今晚，在你回家的路上，拍一张照片或一段录像。用文字介绍你的见闻，以证明这个观点，并邀请其他同学参与讨论。”我收到的作业包括交通堵塞，猫狗对峙，被泡在水里的花园以及足球训练中的射门。第二天，学生们就可以归纳整理前一天晚上在网络上收集到的评论了。\n",
    "\n",
    "6．用好你的相机\n",
    "随着智能手机和平板电脑的普及，相机也变得无处不在，而且分享照片也越来越简单。MOOC的明星教授说，把45分钟的讲座变成10分钟一段的视频让他们被迫“升级课程”。不是每个老师都能通过这种方式吸引一批学生，但是他们可以参考这个经验，为课堂制作自己的视频，例如实地考察录像。让整个班都出去跑一趟可能不可行，但利用视频和照片，可以把考察点“带”到课室中来。利用智能手机耳机上配备的话筒，还可以为视频配上讲解，从而高效地用多个视频介绍完一个知识点。\n",
    "\n",
    "将MOOC应用到传统课堂教学\n",
    "随着大规模网络公开课的发展，教师可以考虑把在线教育的方法应用到自己的课堂教学中。MOOC的课程制作涉及比较复杂的技术，但使用这些课程几乎不费吹灰之力，而且成本也远远不及课程制作。没有加入edX或Coursera的大部分学校可以进行更多自创内容的尝试，就像自出版一样，这也是许多cMOOC的尝试。教师也可以向自己的目标努力。通过打开课堂，建立网络社区和制作教学视频，可以让更多的教师和学生享受到MOOC的投入带来的收益。\n",
    "'''\n",
    "\n",
    "\n",
    "from snownlp import normal\n",
    "from snownlp import seg\n",
    "from snownlp.summary import textrank"
   ]
  },
  {
   "cell_type": "code",
   "execution_count": 4,
   "metadata": {},
   "outputs": [
    {
     "name": "stdout",
     "output_type": "stream",
     "text": [
      "学生们都具备参与在线课堂的工具\n",
      "在课堂上可以表扬在网络上活跃的学生\n",
      "希望能够指导教师将MOOC的经验和资源运用到传统课堂教学中\n",
      "你都能在MOOC上找到对学生有用的内容\n",
      "让学生在课堂之外也能参与到学校中\n",
      "学生\n",
      "课程\n",
      "课堂\n",
      "上\n",
      "MOOC\n"
     ]
    }
   ],
   "source": [
    "if __name__=='__main__':\n",
    "    t=normal.zh2hans(text)\n",
    "    sents=normal.get_sentences(t)\n",
    "    doc=[]\n",
    "    for sent in sents:\n",
    "        words=seg.seg(sent)\n",
    "        words=normal.filter_stop(words)\n",
    "        doc.append(words)\n",
    "    rank=textrank.TextRank(doc)\n",
    "    rank.solve()\n",
    "    for index in rank.top_index(5):\n",
    "        print(sents[index])\n",
    "    keyword_rank=textrank.KeywordTextRank(doc)\n",
    "    keyword_rank.solve()\n",
    "    for w in keyword_rank.top_index(5):\n",
    "        print(w)"
   ]
  }
 ],
 "metadata": {
  "kernelspec": {
   "display_name": "Python 3",
   "language": "python",
   "name": "python3"
  },
  "language_info": {
   "codemirror_mode": {
    "name": "ipython",
    "version": 3
   },
   "file_extension": ".py",
   "mimetype": "text/x-python",
   "name": "python",
   "nbconvert_exporter": "python",
   "pygments_lexer": "ipython3",
   "version": "3.6.6"
  }
 },
 "nbformat": 4,
 "nbformat_minor": 2
}
