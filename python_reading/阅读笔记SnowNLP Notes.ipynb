{
 "cells": [
  {
   "cell_type": "markdown",
   "metadata": {},
   "source": [
    "# SnowNLP处理中文文本"
   ]
  },
  {
   "cell_type": "markdown",
   "metadata": {},
   "source": [
    "首先要创建一个SnowNLP对象,创建方法SnowNLP(u''),u将文本转为utf8编码"
   ]
  },
  {
   "cell_type": "markdown",
   "metadata": {},
   "source": [
    "<b>方法举例</b><br>\n",
    "分词：.words<br>\n",
    "分句：.sentences<br>\n",
    "词性：.tags<br>\n",
    "情感（positive的概率）：.sentiments<br>\n",
    "关键词:.keyword<br>\n",
    "摘要：.summary<br>\n",
    "转换为简体字：.han<br>\n",
    "转换为拼音：.pinyin<br>\n",
    "文本分类（词性）：.tags<br>\n",
    "统计单个词频：.tf<br>\n",
    "计算相似度：.sim(u'')<br>\n",
    ".idf?<br>\n",
    "\n"
   ]
  },
  {
   "cell_type": "markdown",
   "metadata": {},
   "source": [
    "<b>训练</b><br>\n",
    "训练可以分为分词，词性标注和情感分析三种训练\n",
    "分别引入不同的模块后，使用.train和.save方法即可<br>\n",
    "\n",
    "data.txt是已有样本<br>"
   ]
  },
  {
   "cell_type": "markdown",
   "metadata": {},
   "source": [
    "# setup.py （打包）"
   ]
  },
  {
   "cell_type": "markdown",
   "metadata": {},
   "source": [
    "首先引入setuptools或distutils.core和distutils.util\n",
    "#distutils 是 python 标准库的一部分，这个库的目的是为开发者提供一种方便的打包方式， 同时为使用者提供方便的安装方式。当我们开发了自己的模块之后，使用distutils的setup.py打包。"
   ]
  },
  {
   "cell_type": "markdown",
   "metadata": {},
   "source": [
    "setup(<br>\n",
    "name:<br>\n",
    "discreption:<br>\n",
    ")#建立setup.py文件<br>"
   ]
  },
  {
   "cell_type": "markdown",
   "metadata": {},
   "source": [
    "# test.py 自动文摘算法的实现"
   ]
  },
  {
   "cell_type": "markdown",
   "metadata": {},
   "source": [
    "将文本转换为简体：zh2hans(text)<br>\n",
    "切分句子:get_sentences<br>\n",
    "过滤：filter_stop(words)<br>\n",
    "doc存储每一句句中的摘要词<br>\n",
    "提取文本摘要：textrank.TextRank<br>\n",
    "rank = textrank.TextRank(doc)<br>\n",
    "rank.solve()?<br>\n",
    "提取前n句：rank.top_index(n)<br>\n",
    "\n"
   ]
  }
 ],
 "metadata": {
  "kernelspec": {
   "display_name": "Python 3",
   "language": "python",
   "name": "python3"
  },
  "language_info": {
   "codemirror_mode": {
    "name": "ipython",
    "version": 3
   },
   "file_extension": ".py",
   "mimetype": "text/x-python",
   "name": "python",
   "nbconvert_exporter": "python",
   "pygments_lexer": "ipython3",
   "version": "3.6.6"
  }
 },
 "nbformat": 4,
 "nbformat_minor": 2
}
