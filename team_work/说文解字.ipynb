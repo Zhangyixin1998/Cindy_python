{
 "cells": [
  {
   "cell_type": "code",
   "execution_count": 1,
   "metadata": {},
   "outputs": [],
   "source": [
    "import requests\n",
    "import os\n",
    "from bs4 import BeautifulSoup\n",
    "\n",
    "r=requests.get('http://www.guoxuedashi.com/ShuoWenJieZi/')\n",
    "from pyquery import PyQuery as pq\n",
    "doc=pq(r.text)\n",
    "doc1 = pq(doc('#ff').html())\n",
    "doc2=doc1('dd')\n",
    "raw_url=\"http://www.guoxuedashi.com\"\n",
    "\n",
    "if not os.path.exists(\"shuowenjiezi\"):\n",
    "    os.mkdir(\"shuowenjiezi/\")"
   ]
  },
  {
   "cell_type": "code",
   "execution_count": 3,
   "metadata": {},
   "outputs": [],
   "source": [
    "for elem in doc2('a'):\n",
    "    url=raw_url+elem.get('href') #进入每个字所在的页面\n",
    "    #print(url)\n",
    "    reps=requests.get(url)\n",
    "    soup=BeautifulSoup(reps.content,\"html.parser\")\n",
    "    final_name=soup.find(\"div\",class_=\"info_tree\").h1.get_text()\n",
    "    final_def = soup.find(\"div\",class_=\"info_txt2 clearfix\").get_text()\n",
    "    doc4=pq(reps.text)\n",
    "    doc_6 = pq(doc4('div.info_txt2.clearfix').html())\n",
    "    #print(doc_6('a').attr('href'))\n",
    "    final_url=raw_url+doc_6('a').attr('href') #进入图片所在页面\n",
    "    #print(final_url)\n",
    "    reps_1=requests.get(final_url)\n",
    "    doc_7=pq(reps_1.text)\n",
    "    doc_8 = pq(doc_7.html())\n",
    "    \n",
    "    for elem in doc_8('img'): #遍历所有img\n",
    "        img=elem.get('src')\n",
    "   \n",
    "    #print(img)\n",
    "    #print(final_name)\n",
    "    with open('shuowenjiezi/'+final_name+'.txt',\"a\",encoding='utf-8') as f:\n",
    "            f.write(final_name+'\\n')\n",
    "            f.write(final_def+'\\n')\n",
    "            f.write(img)"
   ]
  },
  {
   "cell_type": "code",
   "execution_count": null,
   "metadata": {},
   "outputs": [],
   "source": []
  }
 ],
 "metadata": {
  "kernelspec": {
   "display_name": "Python 3",
   "language": "python",
   "name": "python3"
  },
  "language_info": {
   "codemirror_mode": {
    "name": "ipython",
    "version": 3
   },
   "file_extension": ".py",
   "mimetype": "text/x-python",
   "name": "python",
   "nbconvert_exporter": "python",
   "pygments_lexer": "ipython3",
   "version": "3.6.0"
  }
 },
 "nbformat": 4,
 "nbformat_minor": 2
}
